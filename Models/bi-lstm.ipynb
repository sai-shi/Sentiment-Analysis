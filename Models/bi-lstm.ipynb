{
 "cells": [
  {
   "cell_type": "code",
   "execution_count": 1,
   "metadata": {},
   "outputs": [
    {
     "name": "stderr",
     "output_type": "stream",
     "text": [
      "/usr/local/lib/python3.6/site-packages/h5py/__init__.py:36: FutureWarning: Conversion of the second argument of issubdtype from `float` to `np.floating` is deprecated. In future, it will be treated as `np.float64 == np.dtype(float).type`.\n",
      "  from ._conv import register_converters as _register_converters\n"
     ]
    }
   ],
   "source": [
    "import tensorflow as tf\n",
    "import numpy as np\n",
    "import pandas as pd\n",
    "import utils\n",
    "import random"
   ]
  },
  {
   "cell_type": "code",
   "execution_count": 2,
   "metadata": {},
   "outputs": [],
   "source": [
    "# hyperparameters\n",
    "batch_iterations = 100\n",
    "batch_size = 32\n",
    "full_iterations = 25\n",
    "learning_rate = 0.01\n",
    "reg_eta = 0.01\n",
    "\n",
    "# dimensionalities\n",
    "dim_lstm = 300\n",
    "dim_word = 300\n",
    "dim_aspect = 5\n",
    "dim_sentence = 80\n",
    "dim_polarity = 3\n",
    "\n",
    "# setup utils object\n",
    "isSample = True\n",
    "u = utils.UTILS(batch_size, dim_sentence, dim_polarity, isSample)"
   ]
  },
  {
   "cell_type": "code",
   "execution_count": 3,
   "metadata": {},
   "outputs": [],
   "source": [
    "# define tf placeholders\n",
    "X = tf.placeholder(tf.int32, [None, dim_sentence])\n",
    "y = tf.placeholder(tf.float32, [None, dim_polarity])\n",
    "seqlen = tf.placeholder(tf.int32, [None])\n",
    "lr = tf.placeholder(tf.float32, [])"
   ]
  },
  {
   "cell_type": "code",
   "execution_count": 4,
   "metadata": {},
   "outputs": [
    {
     "name": "stdout",
     "output_type": "stream",
     "text": [
      "WARNING:tensorflow:From /usr/local/lib/python3.6/site-packages/tensorflow/contrib/learn/python/learn/datasets/base.py:198: retry (from tensorflow.contrib.learn.python.learn.datasets.base) is deprecated and will be removed in a future version.\n",
      "Instructions for updating:\n",
      "Use the retry module or similar alternatives.\n"
     ]
    }
   ],
   "source": [
    "# define tf variables\n",
    "with tf.variable_scope('bilstm_vars'):\n",
    "    with tf.variable_scope('weights', reuse = tf.AUTO_REUSE):\n",
    "        lstm_w = tf.get_variable(\n",
    "            name = 'softmax_w',\n",
    "            shape = [dim_lstm * 2, dim_polarity],\n",
    "            initializer = tf.random_uniform_initializer(-0.003, 0.003),\n",
    "            regularizer = tf.contrib.layers.l2_regularizer(reg_eta)\n",
    "        )\n",
    "    with tf.variable_scope('biases', reuse = tf.AUTO_REUSE):\n",
    "        lstm_b = tf.get_variable(\n",
    "            name = 'softmax_b',\n",
    "            shape = [dim_polarity],\n",
    "            initializer = tf.random_uniform_initializer(-0.003, 0.003),\n",
    "            regularizer = tf.contrib.layers.l2_regularizer(reg_eta)\n",
    "        )"
   ]
  },
  {
   "cell_type": "code",
   "execution_count": 6,
   "metadata": {},
   "outputs": [],
   "source": [
    "# define lstm model\n",
    "def dynamic_lstm(inputs, seqlen):\n",
    "    inputs = tf.nn.dropout(inputs, keep_prob=1.0)\n",
    "    with tf.name_scope('bilstm_model'):\n",
    "        forward_lstm_cell = tf.contrib.rnn.LSTMCell(dim_lstm)\n",
    "        backward_lstm_cell = tf.contrib.rnn.LSTMCell(dim_lstm)\n",
    "        outputs, states = tf.nn.bidirectional_dynamic_rnn(\n",
    "            forward_lstm_cell,\n",
    "            backward_lstm_cell,\n",
    "            inputs = inputs,\n",
    "            sequence_length = seqlen,\n",
    "            dtype = tf.float32,\n",
    "            scope = 'bilstm'\n",
    "        )\n",
    "        forward_outputs, backward_outputs = outputs\n",
    "        backward_outputs = tf.reverse_sequence(backward_outputs, tf.cast(seqlen, tf.int64), seq_dim=1)\n",
    "        outputs = tf.concat([forward_outputs, backward_outputs], 2)\n",
    "        size = tf.shape(outputs)[0]\n",
    "        index = tf.range(0, size) * dim_sentence + seqlen - 1\n",
    "        output = tf.gather(tf.reshape(outputs, [-1, dim_lstm * 2]), index)  # batch_size * n_hidden * 2\n",
    "    predict = tf.matmul(output, lstm_w) + lstm_b\n",
    "    return predict\n"
   ]
  },
  {
   "cell_type": "code",
   "execution_count": 8,
   "metadata": {},
   "outputs": [
    {
     "name": "stderr",
     "output_type": "stream",
     "text": [
      "/usr/local/lib/python3.6/site-packages/tensorflow/python/ops/gradients_impl.py:100: UserWarning: Converting sparse IndexedSlices to a dense Tensor of unknown shape. This may consume a large amount of memory.\n",
      "  \"Converting sparse IndexedSlices to a dense Tensor of unknown shape. \"\n"
     ]
    }
   ],
   "source": [
    "# define operations\n",
    "# tf.reset_default_graph()\n",
    "pred = dynamic_lstm(tf.nn.embedding_lookup(u.gloveDict, X), seqlen)\n",
    "loss = tf.reduce_mean(tf.nn.softmax_cross_entropy_with_logits_v2(logits = pred, labels = y))\n",
    "optimizer = tf.train.AdamOptimizer(lr).minimize(loss)\n",
    "correct = tf.equal(tf.argmax(pred, 1), tf.argmax(y, 1))\n",
    "accuracy = tf.reduce_mean(tf.cast(correct, tf.float32))\n",
    "init = tf.global_variables_initializer()"
   ]
  },
  {
   "cell_type": "code",
   "execution_count": null,
   "metadata": {},
   "outputs": [],
   "source": [
    "# batch training\n",
    "test_X, test_y, test_seqlen, _ = u.getData('test')\n",
    "lrval = 0.01\n",
    "with tf.Session() as sess:\n",
    "    sess.run(init)\n",
    "    for i in range(batch_iterations):\n",
    "        batch_X, batch_y, batch_seqlen, _ = u.nextBatch(batch_size)\n",
    "        lrval *= (1. / (1. + 0.2 * i))\n",
    "        sess.run(optimizer, feed_dict = {X: batch_X, y: batch_y, seqlen: batch_seqlen, lr: lrval})\n",
    "        if i > 0 and i % 4 == 0:\n",
    "            loss_train, accuracy_train = sess.run([loss, accuracy], feed_dict = {X: batch_X, y: batch_y, seqlen: batch_seqlen})\n",
    "            print('step: %s, train loss: %s, train accuracy: %s' % (i, loss_train, accuracy_train))\n",
    "            loss_test, accuracy_test = sess.run([loss, accuracy], feed_dict = {X: test_X, y: test_y, seqlen: test_seqlen})\n",
    "            print('step: %s, test loss: %s, test accuracy: %s' % (i, loss_test, accuracy_test))"
   ]
  },
  {
   "cell_type": "code",
   "execution_count": 9,
   "metadata": {},
   "outputs": [
    {
     "name": "stdout",
     "output_type": "stream",
     "text": [
      "step: 4, train loss: 0.9202549, train accuracy: 0.62938386\n",
      "step: 4, test loss: 0.82367855, test accuracy: 0.7123288\n",
      "step: 8, train loss: 0.9174761, train accuracy: 0.6341232\n",
      "step: 8, test loss: 0.79527277, test accuracy: 0.7123288\n",
      "step: 12, train loss: 0.91696906, train accuracy: 0.6341232\n",
      "step: 12, test loss: 0.7949051, test accuracy: 0.7123288\n",
      "step: 16, train loss: 0.91696197, train accuracy: 0.6341232\n",
      "step: 16, test loss: 0.7949019, test accuracy: 0.7123288\n",
      "step: 20, train loss: 0.916962, train accuracy: 0.6341232\n",
      "step: 20, test loss: 0.79490197, test accuracy: 0.7123288\n",
      "step: 24, train loss: 0.916962, train accuracy: 0.6341232\n",
      "step: 24, test loss: 0.79490197, test accuracy: 0.7123288\n"
     ]
    }
   ],
   "source": [
    "# full dataset training\n",
    "test_X, test_y, test_seqlen, _ = u.getData('test')\n",
    "train_X, train_y, train_seqlen, _ = u.getData('train')\n",
    "lrval = 0.01\n",
    "with tf.Session() as sess:\n",
    "    sess.run(init)\n",
    "    for i in range(full_iterations):\n",
    "        lrval *= (1. / (1. + 0.2 * i))\n",
    "        sess.run(optimizer, feed_dict = {X: train_X, y: train_y, seqlen: train_seqlen, lr: lrval})\n",
    "        if i > 0 and i % 4 == 0:\n",
    "            loss_train, accuracy_train = sess.run([loss, accuracy], feed_dict = {X: train_X, y: train_y, seqlen: train_seqlen, lr: 0.01})\n",
    "            print('step: %s, train loss: %s, train accuracy: %s' % (i, loss_train, accuracy_train))\n",
    "            loss_test, accuracy_test = sess.run([loss, accuracy], feed_dict = {X: test_X, y: test_y, seqlen: test_seqlen, lr: 0.01})\n",
    "            print('step: %s, test loss: %s, test accuracy: %s' % (i, loss_test, accuracy_test))"
   ]
  },
  {
   "cell_type": "code",
   "execution_count": null,
   "metadata": {},
   "outputs": [],
   "source": []
  }
 ],
 "metadata": {
  "kernelspec": {
   "display_name": "Python 3",
   "language": "python",
   "name": "python3"
  },
  "language_info": {
   "codemirror_mode": {
    "name": "ipython",
    "version": 3
   },
   "file_extension": ".py",
   "mimetype": "text/x-python",
   "name": "python",
   "nbconvert_exporter": "python",
   "pygments_lexer": "ipython3",
   "version": "3.6.4"
  }
 },
 "nbformat": 4,
 "nbformat_minor": 2
}
